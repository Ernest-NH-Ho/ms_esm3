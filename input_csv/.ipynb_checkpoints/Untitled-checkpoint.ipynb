{
 "cells": [
  {
   "cell_type": "code",
   "execution_count": 20,
   "id": "670f4fe5-8d08-4ca3-850f-6c2b82f4930a",
   "metadata": {},
   "outputs": [],
   "source": [
    "import pandas as pd"
   ]
  },
  {
   "cell_type": "code",
   "execution_count": 21,
   "id": "de10f950-03a5-4364-9058-474c7b952598",
   "metadata": {},
   "outputs": [],
   "source": [
    "DF = pd.read_csv(f\"demo_ans.csv\", header=0)\n",
    "# DF"
   ]
  },
  {
   "cell_type": "code",
   "execution_count": 22,
   "id": "dca5f728-1633-46e2-89c4-0c7bcaad1556",
   "metadata": {},
   "outputs": [],
   "source": [
    "DF2 = pd.read_csv(f\"demo.csv\", header=0)\n",
    "# DF2"
   ]
  },
  {
   "cell_type": "code",
   "execution_count": 23,
   "id": "e3bcd459-5651-40cf-aaed-82e669944024",
   "metadata": {},
   "outputs": [
    {
     "data": {
      "text/plain": [
       "0    MRLIILEDYDELSEKAAEIIAKIIKKNIEEKGYAVLGLPTGSSPEG...\n",
       "1    MKINIFDTAEEMAEAAAKDTIKLIESSPLGLRIVLSTGPRIFYEFL...\n",
       "2    MRVIIKETAEKAGEWAARMLAAQIKEFAPTAENPFRVGLAGGSTPI...\n",
       "3    MLNVVIRHDYEDASRYAAKVLARLVKKKPDAVIGLSGSSAIGVYEH...\n",
       "4    MRIIIDCDPGHDDALAILLALGAEEVEVEGITTVAGNVDVTDTTRN...\n",
       "Name: rs41, dtype: object"
      ]
     },
     "execution_count": 23,
     "metadata": {},
     "output_type": "execute_result"
    }
   ],
   "source": [
    "DF[f\"rs41\"]"
   ]
  },
  {
   "cell_type": "code",
   "execution_count": 24,
   "id": "8f38b019-c74f-4d0e-9173-737cfc026f5a",
   "metadata": {},
   "outputs": [
    {
     "data": {
      "text/plain": [
       "0    MRLIILEDYDELSEKAAEIIAKIIKKNIEEKGYAVLGLPTGSSPEG...\n",
       "1    MKINIFDTAEEMAEAAAKDTIKLIESSPLGLRIVLSTGPRIFYEFL...\n",
       "2    MRVIIKETAEKAGEWAARMLAAQIKEFAPTAENPFRVGLAGGSTPI...\n",
       "3    MLNVVIRHDYEDASRYAAKVLARLVKKKPDAVIGLSGSSAIGVYEH...\n",
       "4    MRIIIDCDPGHDDALAILLALGAEEVEVEGITTVAGNVDVTDTTRN...\n",
       "Name: rs41, dtype: object"
      ]
     },
     "execution_count": 24,
     "metadata": {},
     "output_type": "execute_result"
    }
   ],
   "source": [
    "DF2[f\"rs41\"]"
   ]
  },
  {
   "cell_type": "code",
   "execution_count": null,
   "id": "c57ee83a-4259-4dc0-a216-30638a40eb99",
   "metadata": {},
   "outputs": [],
   "source": [
    "i = 4\n",
    "for j, aa in enumerate(DF.loc[i, \"rs41\"]):\n",
    "    if DF.loc[i, \"rs41\"][j] != DF2.loc[i, \"rs41\"][j]:\n",
    "        print(j)\n",
    "        print(DF.loc[i, \"rs41\"][j])\n",
    "        print(DF2.loc[i, \"rs41\"][j])"
   ]
  },
  {
   "cell_type": "code",
   "execution_count": 11,
   "id": "87d8531c-e909-4801-9335-6411ccdb564e",
   "metadata": {},
   "outputs": [
    {
     "data": {
      "text/plain": [
       "'MRVIILEDYDEMSKAAAERVAKIIKKNIEEKGYCVLGLPTGSSPEGIYKLLIEKYHKEGGLDFSNVITFNLDEYVGLSPEHPQSYRYFMNKHLFNHVNIDLAKTHIPDGMAEDLEAECERYEKEIKEAGGIDLQILGIGEDGHIGFNEPGSSLASKTRVKTLTADTRRANAKFFGNDIEDVPKMAITMGIGTIMEAKEIMLLASGSRKADALKAMVEGPVSAMVTASALQLHPKTIVYCDKEAASKLKVKTVLYFRKLEERED'"
      ]
     },
     "execution_count": 11,
     "metadata": {},
     "output_type": "execute_result"
    }
   ],
   "source": [
    "DF.loc[0, \"rs41\"]"
   ]
  },
  {
   "cell_type": "code",
   "execution_count": 12,
   "id": "3132c6c7-9779-46a9-b1a5-4f81cd95db81",
   "metadata": {},
   "outputs": [
    {
     "data": {
      "text/plain": [
       "'MRLIILEDYDELSEKAAEIIAKIIKKNIEEKGYAVLGLPTGSSPEGIYKTIIEKFYKTGELDFSNVITFNLDEYVGLSPEHPQSYRYFMNKHFFNHININKDNINIPKGDAEDLIKECEEYEKKIKEYGGIDLQLLGIGEDGHIGFNEPGSSLASKTRVKTLTADTRRANAKFFGNDINDVPKFAITMGIGTIMEAKEIMLLASGSNKADAIKKMVEGPISHMWTASALQLHPKTIVICDKEAISKLKKETVLYFRKLEERED'"
      ]
     },
     "execution_count": 12,
     "metadata": {},
     "output_type": "execute_result"
    }
   ],
   "source": [
    "DF2.loc[0, \"rs41\"]"
   ]
  },
  {
   "cell_type": "code",
   "execution_count": 25,
   "id": "a057e4a3-659c-44cf-8689-ba4d9789e1a2",
   "metadata": {},
   "outputs": [
    {
     "name": "stdout",
     "output_type": "stream",
     "text": [
      "True\n",
      "True\n",
      "True\n",
      "True\n",
      "True\n",
      "True\n",
      "True\n",
      "True\n",
      "True\n",
      "True\n",
      "True\n",
      "True\n",
      "True\n",
      "True\n",
      "True\n",
      "True\n",
      "True\n",
      "True\n",
      "True\n",
      "True\n",
      "True\n",
      "True\n",
      "True\n",
      "True\n",
      "True\n",
      "True\n",
      "True\n",
      "True\n",
      "True\n",
      "True\n"
     ]
    }
   ],
   "source": [
    "import numpy as np\n",
    "for rs in range(41, 71):\n",
    "    print(np.all(DF[f\"rs{rs}\"] == DF2[f\"rs{rs}\"]))"
   ]
  }
 ],
 "metadata": {
  "kernelspec": {
   "display_name": "Python 3 (ipykernel)",
   "language": "python",
   "name": "python3"
  },
  "language_info": {
   "codemirror_mode": {
    "name": "ipython",
    "version": 3
   },
   "file_extension": ".py",
   "mimetype": "text/x-python",
   "name": "python",
   "nbconvert_exporter": "python",
   "pygments_lexer": "ipython3",
   "version": "3.12.2"
  }
 },
 "nbformat": 4,
 "nbformat_minor": 5
}
