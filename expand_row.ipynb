{
 "cells": [
  {
   "cell_type": "code",
   "execution_count": 1,
   "id": "fffad355-f443-43e6-888f-6ff813836fd1",
   "metadata": {},
   "outputs": [],
   "source": [
    "import os\n",
    "\n",
    "# file_name = \"AF-A6LHV2-F1-model_v4\"\n",
    "def addspace(file_name):\n",
    "    with open(f\"{file_name.replace('.pdb', '')}_ori.pdb\", \"r\") as infile:\n",
    "        allrows = infile.readlines()\n",
    "        # allrows_new = []\n",
    "        for i, row in enumerate(allrows):\n",
    "            # print(row[-1]==\"\\n\")\n",
    "            # break\n",
    "            if row.startswith(f\"ATOM  \") and len(row)<81:\n",
    "                allrows[i] = row[:-1] + \" \"*(81-len(row)) + \"\\n\"\n",
    "            \n",
    "        with open(f\"{file_name.replace('.pdb', '')}.pdb\", \"a+\") as outfile:\n",
    "            outfile.writelines(allrows)\n",
    "\n",
    "for file in os.listdir():\n",
    "    if file.startswith('AF-'):\n",
    "        os.rename(file, f\"{file.replace('.pdb', '')}_ori.pdb\")\n",
    "        addspace(file)\n",
    "        "
   ]
  },
  {
   "cell_type": "code",
   "execution_count": 1,
   "id": "0a4480bd-a9de-4095-9024-d22470fec048",
   "metadata": {},
   "outputs": [
    {
     "data": {
      "text/plain": [
       "17"
      ]
     },
     "execution_count": 1,
     "metadata": {},
     "output_type": "execute_result"
    }
   ],
   "source": [
    "s = \"ATOM      1  N   MET A   1      10.571 -13.877  17.414  1.00 81.45           N\"\n",
    "s = \"ATOM      1  N   MET     1      48.000  24.680  55.870  1.00  0.00           N\"\n",
    "s.find(\"MET\")"
   ]
  },
  {
   "cell_type": "code",
   "execution_count": 6,
   "id": "92b84ba9-e92d-4a4a-82a6-544f046f5c88",
   "metadata": {},
   "outputs": [
    {
     "data": {
      "text/plain": [
       "80"
      ]
     },
     "execution_count": 6,
     "metadata": {},
     "output_type": "execute_result"
    }
   ],
   "source": [
    "len(\"ATOM      7  CB  MET     1      52.850  51.860  44.030  1.00  0.00              \")"
   ]
  },
  {
   "cell_type": "code",
   "execution_count": null,
   "id": "2e959e9e-f79a-4fbf-9f72-eaf5b6efe5cd",
   "metadata": {},
   "outputs": [],
   "source": [
    "import subprocess\n",
    "entry = [\"A2RJR7\", \"Q5FHT1\", \"Q8DV70\", \"P31470\", \"C4LL80\", \"C3PJW6\", \"B7GQA1\", \"A6LHV2\", \"Q7MW43\"]\n",
    "\n",
    "for e in entry:\n",
    "    subprocess.run([\"wget\", \"-O\", f\"../input_pdb/AF-{e}-F1-model_v4.pdb\", f\"https://alphafold.ebi.ac.uk/files/AF-{e}-F1-model_v4.pdb\"])"
   ]
  }
 ],
 "metadata": {
  "kernelspec": {
   "display_name": "Python 3 (ipykernel)",
   "language": "python",
   "name": "python3"
  },
  "language_info": {
   "codemirror_mode": {
    "name": "ipython",
    "version": 3
   },
   "file_extension": ".py",
   "mimetype": "text/x-python",
   "name": "python",
   "nbconvert_exporter": "python",
   "pygments_lexer": "ipython3",
   "version": "3.12.2"
  }
 },
 "nbformat": 4,
 "nbformat_minor": 5
}
